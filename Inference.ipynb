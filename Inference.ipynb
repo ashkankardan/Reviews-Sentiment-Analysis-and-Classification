{
 "cells": [
  {
   "cell_type": "markdown",
   "metadata": {},
   "source": [
    "# <center>Init</center>"
   ]
  },
  {
   "cell_type": "code",
   "execution_count": 18,
   "metadata": {},
   "outputs": [],
   "source": [
    "from reviews_sentiment_model_training import preprocess_reviews, vectorize\n",
    "import pandas as pd\n",
    "import pickle\n",
    "from vaderSentiment.vaderSentiment import SentimentIntensityAnalyzer"
   ]
  },
  {
   "cell_type": "markdown",
   "metadata": {},
   "source": [
    "---\n",
    "# <center>List</center>"
   ]
  },
  {
   "cell_type": "code",
   "execution_count": 19,
   "metadata": {},
   "outputs": [],
   "source": [
    "reviews_list = ['I really loved the product.', 'Althogh it took a long time for the item to deliver, I was happy with the item', 'Bad customer service, dont recommend it!']"
   ]
  },
  {
   "cell_type": "markdown",
   "metadata": {},
   "source": [
    "---\n",
    "# <center>Execute</center>"
   ]
  },
  {
   "cell_type": "code",
   "execution_count": 20,
   "metadata": {},
   "outputs": [],
   "source": [
    "def execute(list):\n",
    "\n",
    "  # Pickles\n",
    "  stop_words = pickle.load(open('./files/stop_words.pickle', 'rb'))\n",
    "  f_vectors = pickle.load(open('./files/f_vectors.pickle', 'rb'))\n",
    "  xgb_model = pickle.load(open('./files/xgb_model.pickle', 'rb'))\n",
    "\n",
    "  # Preprocess\n",
    "  filtered_reviews = preprocess_reviews(stop_words, list)\n",
    "\n",
    "  # Vectorize\n",
    "  def vectorize(filtered_reviews):\n",
    "    vectorized_reviews = f_vectors.transform(filtered_reviews)\n",
    "    return pd.DataFrame(vectorized_reviews.toarray(), columns=f_vectors.get_feature_names_out())\n",
    "\n",
    "  # Predict\n",
    "  def predict(vectorized_reviews):\n",
    "    prediction = xgb_model.predict(vectorized_reviews)\n",
    "    return prediction\n",
    "\n",
    "  # Pred DF\n",
    "  def pred_df(reviews_list, prediction):\n",
    "    data = {\n",
    "    'Reviews': reviews_list,\n",
    "    'Labels': prediction\n",
    "    }\n",
    "    return pd.DataFrame(data)\n",
    "\n",
    "  # FN Call\n",
    "  vectorized_reviews = vectorize(filtered_reviews)\n",
    "  prediction = predict(vectorized_reviews)\n",
    "  df = pred_df(list, prediction)\n",
    "  return df"
   ]
  },
  {
   "cell_type": "markdown",
   "metadata": {},
   "source": [
    "---\n",
    "# <center>Execution</center>"
   ]
  },
  {
   "cell_type": "code",
   "execution_count": 21,
   "metadata": {},
   "outputs": [
    {
     "name": "stdout",
     "output_type": "stream",
     "text": [
      "                                             Reviews  Labels\n",
      "0                        I really loved the product.       1\n",
      "1  Althogh it took a long time for the item to de...       1\n",
      "2           Bad customer service, dont recommend it!       0\n"
     ]
    }
   ],
   "source": [
    "if __name__ == '__main__':\n",
    "  print(execute(reviews_list))\n",
    "else:\n",
    "  pass"
   ]
  }
 ],
 "metadata": {
  "kernelspec": {
   "display_name": "base",
   "language": "python",
   "name": "python3"
  },
  "language_info": {
   "codemirror_mode": {
    "name": "ipython",
    "version": 3
   },
   "file_extension": ".py",
   "mimetype": "text/x-python",
   "name": "python",
   "nbconvert_exporter": "python",
   "pygments_lexer": "ipython3",
   "version": "3.9.13"
  },
  "orig_nbformat": 4
 },
 "nbformat": 4,
 "nbformat_minor": 2
}
